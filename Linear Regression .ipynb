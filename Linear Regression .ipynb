{
 "cells": [
  {
   "cell_type": "code",
   "execution_count": 3,
   "metadata": {},
   "outputs": [],
   "source": [
    "import numpy as np\n",
    "import pandas as pd\n",
    "import matplotlib.pyplot as plt\n",
    "\n",
    "# SkLearn\n",
    "from sklearn.datasets import make_regression\n",
    "\n",
    "%matplotlib inline"
   ]
  },
  {
   "cell_type": "code",
   "execution_count": 129,
   "metadata": {},
   "outputs": [],
   "source": [
    "# Create dataset for Linear Regression\n",
    "## n_informative = number of features out of the total number of features(n_features) that are useful\n",
    "X, y = make_regression(n_samples = 200, n_features = 1, n_informative = 1, n_targets = 1, random_state = 42, noise = 10)"
   ]
  },
  {
   "cell_type": "code",
   "execution_count": 131,
   "metadata": {},
   "outputs": [],
   "source": [
    "def plot_data(X, y):\n",
    "#     Opacity of the image generated\n",
    "    plt.scatter(X, y, alpha = 0.8)\n",
    "    \n",
    "    plt.title('Data')\n",
    "    plt.xlabel('X Label')\n",
    "    plt.ylabel('Y Label')"
   ]
  },
  {
   "cell_type": "code",
   "execution_count": 132,
   "metadata": {},
   "outputs": [
    {
     "data": {
      "image/png": "[encoded data removed]",
      "text/plain": [
       "<Figure size 432x288 with 1 Axes>"
      ]
     },
     "metadata": {
      "needs_background": "light"
     },
     "output_type": "display_data"
    }
   ],
   "source": [
    "# Plot generated data\n",
    "plot_data(X, y)"
   ]
  },
  {
   "cell_type": "code",
   "execution_count": 9,
   "metadata": {},
   "outputs": [
    {
     "name": "stdout",
     "output_type": "stream",
     "text": [
      "Shape of X:  (200, 1)\n",
      "Shape of Y:  (200,)\n"
     ]
    }
   ],
   "source": [
    "# Shape of data\n",
    "print('Shape of X: ', X.shape)\n",
    "print(\"Shape of Y: \", y.shape)"
   ]
  },
  {
   "cell_type": "markdown",
   "metadata": {},
   "source": [
    "As the shape of y is (200,), we will have to reshape it in order to avoid any errors during vector multiplication"
   ]
  },
  {
   "cell_type": "code",
   "execution_count": 15,
   "metadata": {},
   "outputs": [
    {
     "data": {
      "text/plain": [
       "(200, 1)"
      ]
     },
     "execution_count": 15,
     "metadata": {},
     "output_type": "execute_result"
    }
   ],
   "source": [
    "y = y.reshape(y.shape[0], 1)\n",
    "y.shape"
   ]
  },
  {
   "cell_type": "code",
   "execution_count": null,
   "metadata": {},
   "outputs": [],
   "source": [
    "# Split data into two parts - train data and test data\n",
    "## For that we will first import sklearn's train_test_split\n",
    "from sklearn.model_selection import train_test_split"
   ]
  },
  {
   "cell_type": "markdown",
   "metadata": {},
   "source": [
    "Below code will divide the data into 80% for training and the rest 20% for testing our model"
   ]
  },
  {
   "cell_type": "code",
   "execution_count": 21,
   "metadata": {},
   "outputs": [],
   "source": [
    "X_train, X_test, y_train, y_test = train_test_split(X, y, test_size = 0.2)"
   ]
  },
  {
   "cell_type": "code",
   "execution_count": 22,
   "metadata": {},
   "outputs": [
    {
     "name": "stdout",
     "output_type": "stream",
     "text": [
      "(160, 1) (160, 1)\n",
      "(40, 1) (40, 1)\n"
     ]
    }
   ],
   "source": [
    "print(X_train.shape, y_train.shape)\n",
    "print(X_test.shape, y_test.shape)"
   ]
  },
  {
   "cell_type": "code",
   "execution_count": 23,
   "metadata": {},
   "outputs": [],
   "source": [
    "def init_params():\n",
    "    m = np.random.normal(scale= 10)\n",
    "    b = np.random.normal(scale = 10)\n",
    "    \n",
    "    return m, b"
   ]
  },
  {
   "cell_type": "code",
   "execution_count": 24,
   "metadata": {},
   "outputs": [],
   "source": [
    "m, b = init_params()"
   ]
  },
  {
   "cell_type": "code",
   "execution_count": 25,
   "metadata": {},
   "outputs": [
    {
     "data": {
      "text/plain": [
       "19.92049126369493"
      ]
     },
     "execution_count": 25,
     "metadata": {},
     "output_type": "execute_result"
    }
   ],
   "source": [
    "m"
   ]
  },
  {
   "cell_type": "code",
   "execution_count": 26,
   "metadata": {},
   "outputs": [
    {
     "data": {
      "text/plain": [
       "1.3689482558936794"
      ]
     },
     "execution_count": 26,
     "metadata": {},
     "output_type": "execute_result"
    }
   ],
   "source": [
    "b"
   ]
  },
  {
   "cell_type": "code",
   "execution_count": 27,
   "metadata": {},
   "outputs": [],
   "source": [
    "# Plot graph with the random line generated\n",
    "def plot_graph(X, y, m, b):\n",
    "    \n",
    "    # x_line generates 10 random points between min and max values of X\n",
    "    x_line = np.linspace(np.min(X), np.max(X), 10) \n",
    "    \n",
    "    # plot y_line using x_line and parameters 'm' and 'b'\n",
    "    y_line = m * x_line + b\n",
    "    \n",
    "    # plot dataset points\n",
    "    plt.scatter(X, y, alpha = 0.8)\n",
    "    \n",
    "    # plot the generated line\n",
    "    plt.plot(x_line, y_line, linewidth = 2, markersize = 12, color = 'red', alpha = 0.8)\n",
    "    \n",
    "    plt.title('Generated line on the dataset')\n",
    "    plt.xlabel('X')\n",
    "    plt.ylabel('Y')\n",
    "    \n",
    "    plt.show()"
   ]
  },
  {
   "cell_type": "markdown",
   "metadata": {},
   "source": [
    "Randomly Generated Line"
   ]
  },
  {
   "cell_type": "code",
   "execution_count": 28,
   "metadata": {},
   "outputs": [
    {
     "data": {
      "image/png": "[encoded data removed]",
      "text/plain": [
       "<Figure size 432x288 with 1 Axes>"
      ]
     },
     "metadata": {
      "needs_background": "light"
     },
     "output_type": "display_data"
    }
   ],
   "source": [
    "plot_graph(X, y, m, b)"
   ]
  },
  {
   "cell_type": "markdown",
   "metadata": {},
   "source": [
    "# Forward propagation"
   ]
  },
  {
   "cell_type": "code",
   "execution_count": 45,
   "metadata": {},
   "outputs": [],
   "source": [
    "def forward_prop(X_train, m, b):\n",
    "    y_pred = m * X_train + b\n",
    "    \n",
    "    return y_pred"
   ]
  },
  {
   "cell_type": "code",
   "execution_count": 46,
   "metadata": {},
   "outputs": [],
   "source": [
    "y_pred = forward_prop(X_train, m, b)"
   ]
  },
  {
   "cell_type": "code",
   "execution_count": 47,
   "metadata": {},
   "outputs": [
    {
     "data": {
      "text/plain": [
       "array([[  5.52961368],\n",
       "       [-14.8823934 ],\n",
       "       [ -0.06552874],\n",
       "       [  2.7347564 ],\n",
       "       [-18.04718944]])"
      ]
     },
     "execution_count": 47,
     "metadata": {},
     "output_type": "execute_result"
    }
   ],
   "source": [
    "y_pred[0:5]"
   ]
  },
  {
   "cell_type": "code",
   "execution_count": 48,
   "metadata": {},
   "outputs": [
    {
     "data": {
      "text/plain": [
       "(160, 1)"
      ]
     },
     "execution_count": 48,
     "metadata": {},
     "output_type": "execute_result"
    }
   ],
   "source": [
    "y_pred.shape"
   ]
  },
  {
   "cell_type": "markdown",
   "metadata": {},
   "source": [
    "# Cost Function "
   ]
  },
  {
   "cell_type": "code",
   "execution_count": 77,
   "metadata": {},
   "outputs": [],
   "source": [
    "def compute_loss(y_train, y_pred):\n",
    "    M = y_train.shape[0] # Number of examples in training set\n",
    "    loss = (1 / (2 * M)) * np.sum((y_train - y_pred)**2)\n",
    "    \n",
    "    return loss\n",
    "    "
   ]
  },
  {
   "cell_type": "code",
   "execution_count": 64,
   "metadata": {},
   "outputs": [],
   "source": [
    "losses = []\n",
    "loss = loss(y_train, y_pred)\n",
    "losses.append(loss)"
   ]
  },
  {
   "cell_type": "code",
   "execution_count": 66,
   "metadata": {},
   "outputs": [
    {
     "data": {
      "text/plain": [
       "1990.6702410081052"
      ]
     },
     "execution_count": 66,
     "metadata": {},
     "output_type": "execute_result"
    }
   ],
   "source": [
    "loss"
   ]
  },
  {
   "cell_type": "markdown",
   "metadata": {},
   "source": [
    "# Gradient Descent for Linear Regression"
   ]
  },
  {
   "cell_type": "markdown",
   "metadata": {},
   "source": [
    "For this section we will need to compute partial derivates of the loss function using parameters 'm' and 'b'. For details on computation of these gradients refer to Andrew Ng's Stanford machine learning notes."
   ]
  },
  {
   "cell_type": "code",
   "execution_count": 79,
   "metadata": {},
   "outputs": [],
   "source": [
    "def gradient(m, b, X_train, y_train, y_pred):\n",
    "    M = X_train.shape[0]\n",
    "    dm = (1 / M) * np.sum((y_pred - y_train) * X_train)\n",
    "    db = (1 / M) * np.sum(y_pred - y_train)\n",
    "    \n",
    "    return dm, db"
   ]
  },
  {
   "cell_type": "markdown",
   "metadata": {},
   "source": [
    "Update Parameters"
   ]
  },
  {
   "cell_type": "code",
   "execution_count": 80,
   "metadata": {},
   "outputs": [],
   "source": [
    "def update_params(m, b, dm, db, learning_rate):\n",
    "    \n",
    "    m = m - learning_rate * dm\n",
    "    b = b - learning_rate * db\n",
    "    \n",
    "    return m, b"
   ]
  },
  {
   "cell_type": "markdown",
   "metadata": {},
   "source": [
    "Gradient Descent"
   ]
  },
  {
   "cell_type": "code",
   "execution_count": 81,
   "metadata": {},
   "outputs": [],
   "source": [
    "def gradient_descent(X_train, y_train, y_pred, learning_rate, m, b):\n",
    "    \n",
    "    # Compute gradient\n",
    "    dm, db = gradient(m, b, X_train, y_train, y_pred)\n",
    "    \n",
    "    # Update parameters\n",
    "    m, b = update_params(m, b, dm, db, learning_rate)\n",
    "    \n",
    "    return m, b"
   ]
  },
  {
   "cell_type": "code",
   "execution_count": 121,
   "metadata": {},
   "outputs": [],
   "source": [
    "losses = []\n",
    "\n",
    "def train(X_train, y_train, learning_rate = 0.01, epochs = 251):\n",
    "    m, b = init_params()   \n",
    "        \n",
    "    for i in range(epochs):\n",
    "        y_pred = forward_prop(X_train, m, b)\n",
    "                \n",
    "        loss = compute_loss(y_train, y_pred)\n",
    "        losses.append(loss)\n",
    "        \n",
    "        m, b = gradient_descent(X_train, y_train, y_pred, learning_rate, m, b)\n",
    "        \n",
    "        if (i%10 == 0):\n",
    "            print('Epoch: ', i)\n",
    "            print('Loss: ', loss)"
   ]
  },
  {
   "cell_type": "code",
   "execution_count": 122,
   "metadata": {},
   "outputs": [
    {
     "name": "stdout",
     "output_type": "stream",
     "text": [
      "Epoch:  0\n",
      "Loss:  2649.9002402359665\n",
      "Epoch:  10\n",
      "Loss:  2244.128886342895\n",
      "Epoch:  20\n",
      "Loss:  1901.9159057785\n",
      "Epoch:  30\n",
      "Loss:  1613.2704760657698\n",
      "Epoch:  40\n",
      "Loss:  1369.7787259787708\n",
      "Epoch:  50\n",
      "Loss:  1164.353643804841\n",
      "Epoch:  60\n",
      "Loss:  991.0248641982926\n",
      "Epoch:  70\n",
      "Loss:  844.7619355689724\n",
      "Epoch:  80\n",
      "Loss:  721.3257035098528\n",
      "Epoch:  90\n",
      "Loss:  617.1433110973785\n",
      "Epoch:  100\n",
      "Loss:  529.2030416049029\n",
      "Epoch:  110\n",
      "Loss:  454.96583629086854\n",
      "Epoch:  120\n",
      "Loss:  392.2908286901263\n",
      "Epoch:  130\n",
      "Loss:  339.37266330759144\n",
      "Epoch:  140\n",
      "Loss:  294.6887242027243\n",
      "Epoch:  150\n",
      "Loss:  256.95469887077735\n",
      "Epoch:  160\n",
      "Loss:  225.08715444274955\n",
      "Epoch:  170\n",
      "Loss:  198.1720143761281\n",
      "Epoch:  180\n",
      "Loss:  175.43800104715433\n",
      "Epoch:  190\n",
      "Loss:  156.23425846691012\n",
      "Epoch:  200\n",
      "Loss:  140.01149431863925\n",
      "Epoch:  210\n",
      "Loss:  126.30608549605596\n",
      "Epoch:  220\n",
      "Loss:  114.72667953123535\n",
      "Epoch:  230\n",
      "Loss:  104.94289843320192\n",
      "Epoch:  240\n",
      "Loss:  96.67581377484035\n",
      "Epoch:  250\n",
      "Loss:  89.68991426116041\n"
     ]
    }
   ],
   "source": [
    "train(X_train, y_train, learning_rate = 0.01, epochs = 251)"
   ]
  },
  {
   "cell_type": "code",
   "execution_count": 123,
   "metadata": {},
   "outputs": [
    {
     "data": {
      "image/png": "[encoded data removed]",
      "text/plain": [
       "<Figure size 432x288 with 1 Axes>"
      ]
     },
     "metadata": {
      "needs_background": "light"
     },
     "output_type": "display_data"
    }
   ],
   "source": [
    "plt.plot(np.arange(251), losses)\n",
    "losses.clear()"
   ]
  },
  {
   "cell_type": "code",
   "execution_count": null,
   "metadata": {},
   "outputs": [],
   "source": []
  }
 ],
 "metadata": {
  "kernelspec": {
   "display_name": "Python 3",
   "language": "python",
   "name": "python3"
  },
  "language_info": {
   "codemirror_mode": {
    "name": "ipython",
    "version": 3
   },
   "file_extension": ".py",
   "mimetype": "text/x-python",
   "name": "python",
   "nbconvert_exporter": "python",
   "pygments_lexer": "ipython3",
   "version": "3.7.3"
  }
 },
 "nbformat": 4,
 "nbformat_minor": 2
}
