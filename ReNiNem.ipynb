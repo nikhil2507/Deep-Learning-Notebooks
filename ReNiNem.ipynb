{
  "nbformat": 4,
  "nbformat_minor": 0,
  "metadata": {
    "colab": {
      "name": "ReNiNem.ipynb",
      "provenance": []
    },
    "kernelspec": {
      "name": "python3",
      "display_name": "Python 3"
    },
    "accelerator": "GPU"
  },
  "cells": [
    {
      "cell_type": "code",
      "metadata": {
        "id": "HpZhQIiJMAVW"
      },
      "source": [
        "from tensorflow.keras.preprocessing.sequence import pad_sequences\n",
        "from tensorflow.keras.layers import Embedding, LSTM, Dense, Dropout, Bidirectional\n",
        "from tensorflow.keras.preprocessing.text import Tokenizer\n",
        "from tensorflow.keras.models import Sequential\n",
        "from tensorflow.keras.optimizers import Adam\n",
        "from tensorflow.keras import regularizers\n",
        "import tensorflow.keras.utils as ku \n",
        "import numpy as np \n",
        "import pandas as pd\n",
        "import matplotlib.pyplot as plt\n",
        "import tensorflow as tf"
      ],
      "execution_count": null,
      "outputs": []
    },
    {
      "cell_type": "code",
      "metadata": {
        "id": "dQAyXlvJNHgz",
        "colab": {
          "base_uri": "https://localhost:8080/",
          "height": 35
        },
        "outputId": "e182347c-c1a1-4f3d-9858-4c0adac1d39d"
      },
      "source": [
        "lyric=open('/content/drive/My Drive/kings.txt').read()\n",
        "lyric[:40]"
      ],
      "execution_count": null,
      "outputs": [
        {
          "output_type": "execute_result",
          "data": {
            "application/vnd.google.colaboratory.intrinsic+json": {
              "type": "string"
            },
            "text/plain": [
              "\"Here to stay\\nEven when I'm gone\\nWhen I c\""
            ]
          },
          "metadata": {
            "tags": []
          },
          "execution_count": 50
        }
      ]
    },
    {
      "cell_type": "code",
      "metadata": {
        "id": "pAxORK1fNVjG",
        "colab": {
          "base_uri": "https://localhost:8080/",
          "height": 357
        },
        "outputId": "23fbbb59-8b51-45d5-e581-e64b26f19027"
      },
      "source": [
        "corpus=lyric.lower().split('\\n')\n",
        "for i in range(40,60):\n",
        "    print(corpus[i])"
      ],
      "execution_count": null,
      "outputs": [
        {
          "output_type": "stream",
          "text": [
            "have to be a fucking blowout to get me to retire\n",
            "tell these new artists that kings never die\n",
            "i know shit has changed in this age, fuck a twitter page\n",
            "did it just say i've been upstaged?\n",
            "why am i online? it's driving me crazy\n",
            "i'm riding shotgun tryna get a gauge\n",
            "on what's hot, but i'm not gonna' conform\n",
            "but as days pass in this shit\n",
            "and opinions sway, i can hear them say\n",
            "if i stay passionate maybe i can stay jay miraculous\n",
            "comeback as if i went away\n",
            "but detractors just say (so much) for the renegade\n",
            "someone's gonna make me blow my composure\n",
            "here i go again, center stage and i feel like i'm in a cage\n",
            "(some want a champion to fall i still wonder why i laugh at 'em\n",
            "'cause why care when i'm awesome?)\n",
            "fuck what these cynics say\n",
            "(just goes to show that when my back's against the wall\n",
            "and i'm under attack again, that i'll act as if i'm posted up)\n",
            "with this pent-up rage, 'cause all these plaques in my office\n"
          ],
          "name": "stdout"
        }
      ]
    },
    {
      "cell_type": "code",
      "metadata": {
        "id": "3sCQuIx6NaWA",
        "colab": {
          "base_uri": "https://localhost:8080/",
          "height": 34
        },
        "outputId": "a00f902f-efe7-4fb6-8810-a52c638d46ed"
      },
      "source": [
        "tokenizer = Tokenizer()\n",
        "tokenizer.fit_on_texts(corpus)\n",
        "total_words = len(tokenizer.word_index) + 1\n",
        "total_words"
      ],
      "execution_count": null,
      "outputs": [
        {
          "output_type": "execute_result",
          "data": {
            "text/plain": [
              "630"
            ]
          },
          "metadata": {
            "tags": []
          },
          "execution_count": 52
        }
      ]
    },
    {
      "cell_type": "code",
      "metadata": {
        "id": "RdxbzEnRNeNc"
      },
      "source": [
        "input_sequences = []\n",
        "for line in corpus:\n",
        "  token_list = tokenizer.texts_to_sequences([line])[0]\n",
        "  # print(token_list)\n",
        "  for i in range(1, len(token_list)):\n",
        "    n_gram_sequence = token_list[:i+1]\n",
        "    input_sequences.append(n_gram_sequence)\n"
      ],
      "execution_count": null,
      "outputs": []
    },
    {
      "cell_type": "code",
      "metadata": {
        "id": "tAa2nlUfNkj0"
      },
      "source": [
        "# for i in range(20):     \n",
        "#   print(input_sequences[i])"
      ],
      "execution_count": null,
      "outputs": []
    },
    {
      "cell_type": "code",
      "metadata": {
        "id": "qnrWpw4pN4pu",
        "colab": {
          "base_uri": "https://localhost:8080/",
          "height": 153
        },
        "outputId": "0eaf3859-2c2a-41ed-ed11-d1ca7537ca03"
      },
      "source": [
        "max_sequence_len = max([len(x) for x in input_sequences])\n",
        "input_sequences = np.array(pad_sequences(input_sequences, maxlen=max_sequence_len, padding='pre'))\n",
        "print(max_sequence_len)\n",
        "print(input_sequences)"
      ],
      "execution_count": null,
      "outputs": [
        {
          "output_type": "stream",
          "text": [
            "18\n",
            "[[  0   0   0 ...   0  39   3]\n",
            " [  0   0   0 ...  39   3  56]\n",
            " [  0   0   0 ...   0  34  25]\n",
            " ...\n",
            " [  0   0   0 ... 628  33 629]\n",
            " [  0   0   0 ...  33 629   3]\n",
            " [  0   0   0 ... 629   3 195]]\n"
          ],
          "name": "stdout"
        }
      ]
    },
    {
      "cell_type": "code",
      "metadata": {
        "id": "RQ7Ov3UMOQtR",
        "colab": {
          "base_uri": "https://localhost:8080/",
          "height": 374
        },
        "outputId": "692e02cc-48a9-4d4b-c3a2-3c2c7b6c10d7"
      },
      "source": [
        "model = Sequential()\n",
        "model.add(Embedding(1230, 160,input_length=max_sequence_len-1)) \n",
        "model.add(Bidirectional(LSTM(200, return_sequences = True)))\n",
        "model.add(Dropout(0.2))\n",
        "model.add(LSTM(100)) \n",
        "model.add(Dense(630/2, activation='relu', kernel_regularizer=regularizers.l2(0.001))) \n",
        "model.add(Dense(630, activation='softmax')) \n",
        "model.compile(loss='categorical_crossentropy',optimizer='adam',metrics=['accuracy']) \n",
        "print(model.summary())"
      ],
      "execution_count": null,
      "outputs": [
        {
          "output_type": "stream",
          "text": [
            "Model: \"sequential_2\"\n",
            "_________________________________________________________________\n",
            "Layer (type)                 Output Shape              Param #   \n",
            "=================================================================\n",
            "embedding_2 (Embedding)      (None, 17, 160)           196800    \n",
            "_________________________________________________________________\n",
            "bidirectional_2 (Bidirection (None, 17, 400)           577600    \n",
            "_________________________________________________________________\n",
            "dropout_2 (Dropout)          (None, 17, 400)           0         \n",
            "_________________________________________________________________\n",
            "lstm_5 (LSTM)                (None, 100)               200400    \n",
            "_________________________________________________________________\n",
            "dense_4 (Dense)              (None, 315)               31815     \n",
            "_________________________________________________________________\n",
            "dense_5 (Dense)              (None, 630)               199080    \n",
            "=================================================================\n",
            "Total params: 1,205,695\n",
            "Trainable params: 1,205,695\n",
            "Non-trainable params: 0\n",
            "_________________________________________________________________\n",
            "None\n"
          ],
          "name": "stdout"
        }
      ]
    },
    {
      "cell_type": "code",
      "metadata": {
        "id": "4Q0QK5NcOqPc"
      },
      "source": [
        "predictors, label = input_sequences[:,:-1],input_sequences[:,-1]\n",
        "label = ku.to_categorical(label, num_classes=total_words)"
      ],
      "execution_count": null,
      "outputs": []
    },
    {
      "cell_type": "code",
      "metadata": {
        "id": "4cFSNbbYOzqo",
        "colab": {
          "base_uri": "https://localhost:8080/",
          "height": 1000
        },
        "outputId": "ef4d7c42-71b9-402b-ff01-1c3b80f93d9b"
      },
      "source": [
        "history = model.fit(predictors, label, epochs=100, verbose=1)"
      ],
      "execution_count": null,
      "outputs": [
        {
          "output_type": "stream",
          "text": [
            "Epoch 1/100\n",
            "50/50 [==============================] - 1s 27ms/step - loss: 1.6216 - accuracy: 0.6108\n",
            "Epoch 2/100\n",
            "50/50 [==============================] - 1s 28ms/step - loss: 1.5733 - accuracy: 0.6284\n",
            "Epoch 3/100\n",
            "50/50 [==============================] - 1s 28ms/step - loss: 1.5139 - accuracy: 0.6409\n",
            "Epoch 4/100\n",
            "50/50 [==============================] - 1s 27ms/step - loss: 1.4711 - accuracy: 0.6598\n",
            "Epoch 5/100\n",
            "50/50 [==============================] - 1s 28ms/step - loss: 1.4348 - accuracy: 0.6642\n",
            "Epoch 6/100\n",
            "50/50 [==============================] - 1s 27ms/step - loss: 1.3600 - accuracy: 0.7037\n",
            "Epoch 7/100\n",
            "50/50 [==============================] - 1s 28ms/step - loss: 1.3129 - accuracy: 0.7175\n",
            "Epoch 8/100\n",
            "50/50 [==============================] - 1s 27ms/step - loss: 1.3219 - accuracy: 0.7031\n",
            "Epoch 9/100\n",
            "50/50 [==============================] - 1s 27ms/step - loss: 1.2883 - accuracy: 0.7112\n",
            "Epoch 10/100\n",
            "50/50 [==============================] - 1s 27ms/step - loss: 1.2290 - accuracy: 0.7395\n",
            "Epoch 11/100\n",
            "50/50 [==============================] - 1s 27ms/step - loss: 1.1993 - accuracy: 0.7414\n",
            "Epoch 12/100\n",
            "50/50 [==============================] - 1s 28ms/step - loss: 1.1255 - accuracy: 0.7690\n",
            "Epoch 13/100\n",
            "50/50 [==============================] - 1s 27ms/step - loss: 1.0799 - accuracy: 0.7847\n",
            "Epoch 14/100\n",
            "50/50 [==============================] - 1s 27ms/step - loss: 1.0465 - accuracy: 0.7922\n",
            "Epoch 15/100\n",
            "50/50 [==============================] - 1s 27ms/step - loss: 1.0112 - accuracy: 0.8192\n",
            "Epoch 16/100\n",
            "50/50 [==============================] - 1s 27ms/step - loss: 0.9594 - accuracy: 0.8236\n",
            "Epoch 17/100\n",
            "50/50 [==============================] - 1s 27ms/step - loss: 0.9200 - accuracy: 0.8412\n",
            "Epoch 18/100\n",
            "50/50 [==============================] - 1s 27ms/step - loss: 0.9128 - accuracy: 0.8387\n",
            "Epoch 19/100\n",
            "50/50 [==============================] - 1s 27ms/step - loss: 0.8689 - accuracy: 0.8581\n",
            "Epoch 20/100\n",
            "50/50 [==============================] - 1s 27ms/step - loss: 0.8434 - accuracy: 0.8606\n",
            "Epoch 21/100\n",
            "50/50 [==============================] - 1s 28ms/step - loss: 0.8350 - accuracy: 0.8625\n",
            "Epoch 22/100\n",
            "50/50 [==============================] - 1s 27ms/step - loss: 0.8251 - accuracy: 0.8632\n",
            "Epoch 23/100\n",
            "50/50 [==============================] - 1s 27ms/step - loss: 0.8139 - accuracy: 0.8682\n",
            "Epoch 24/100\n",
            "50/50 [==============================] - 1s 27ms/step - loss: 0.7915 - accuracy: 0.8770\n",
            "Epoch 25/100\n",
            "50/50 [==============================] - 1s 27ms/step - loss: 0.7587 - accuracy: 0.8832\n",
            "Epoch 26/100\n",
            "50/50 [==============================] - 1s 27ms/step - loss: 0.7456 - accuracy: 0.8883\n",
            "Epoch 27/100\n",
            "50/50 [==============================] - 1s 28ms/step - loss: 0.7239 - accuracy: 0.8958\n",
            "Epoch 28/100\n",
            "50/50 [==============================] - 1s 27ms/step - loss: 0.7108 - accuracy: 0.9052\n",
            "Epoch 29/100\n",
            "50/50 [==============================] - 1s 28ms/step - loss: 0.6946 - accuracy: 0.9008\n",
            "Epoch 30/100\n",
            "50/50 [==============================] - 1s 27ms/step - loss: 0.6701 - accuracy: 0.9090\n",
            "Epoch 31/100\n",
            "50/50 [==============================] - 1s 27ms/step - loss: 0.6536 - accuracy: 0.9146\n",
            "Epoch 32/100\n",
            "50/50 [==============================] - 1s 28ms/step - loss: 0.6421 - accuracy: 0.9171\n",
            "Epoch 33/100\n",
            "50/50 [==============================] - 1s 27ms/step - loss: 0.6603 - accuracy: 0.9083\n",
            "Epoch 34/100\n",
            "50/50 [==============================] - 1s 27ms/step - loss: 0.7072 - accuracy: 0.8870\n",
            "Epoch 35/100\n",
            "50/50 [==============================] - 1s 27ms/step - loss: 0.6525 - accuracy: 0.9077\n",
            "Epoch 36/100\n",
            "50/50 [==============================] - 1s 27ms/step - loss: 0.6330 - accuracy: 0.9134\n",
            "Epoch 37/100\n",
            "50/50 [==============================] - 1s 28ms/step - loss: 0.6242 - accuracy: 0.9203\n",
            "Epoch 38/100\n",
            "50/50 [==============================] - 1s 28ms/step - loss: 0.5954 - accuracy: 0.9272\n",
            "Epoch 39/100\n",
            "50/50 [==============================] - 1s 27ms/step - loss: 0.5801 - accuracy: 0.9253\n",
            "Epoch 40/100\n",
            "50/50 [==============================] - 1s 27ms/step - loss: 0.5552 - accuracy: 0.9328\n",
            "Epoch 41/100\n",
            "50/50 [==============================] - 1s 28ms/step - loss: 0.5317 - accuracy: 0.9366\n",
            "Epoch 42/100\n",
            "50/50 [==============================] - 1s 28ms/step - loss: 0.5253 - accuracy: 0.9404\n",
            "Epoch 43/100\n",
            "50/50 [==============================] - 1s 28ms/step - loss: 0.5207 - accuracy: 0.9353\n",
            "Epoch 44/100\n",
            "50/50 [==============================] - 1s 28ms/step - loss: 0.5196 - accuracy: 0.9372\n",
            "Epoch 45/100\n",
            "50/50 [==============================] - 1s 28ms/step - loss: 0.5140 - accuracy: 0.9328\n",
            "Epoch 46/100\n",
            "50/50 [==============================] - 1s 27ms/step - loss: 0.5046 - accuracy: 0.9322\n",
            "Epoch 47/100\n",
            "50/50 [==============================] - 1s 27ms/step - loss: 0.5024 - accuracy: 0.9372\n",
            "Epoch 48/100\n",
            "50/50 [==============================] - 1s 27ms/step - loss: 0.4972 - accuracy: 0.9379\n",
            "Epoch 49/100\n",
            "50/50 [==============================] - 1s 28ms/step - loss: 0.4912 - accuracy: 0.9335\n",
            "Epoch 50/100\n",
            "50/50 [==============================] - 1s 28ms/step - loss: 0.4955 - accuracy: 0.9297\n",
            "Epoch 51/100\n",
            "50/50 [==============================] - 1s 28ms/step - loss: 0.4951 - accuracy: 0.9284\n",
            "Epoch 52/100\n",
            "50/50 [==============================] - 1s 28ms/step - loss: 0.5023 - accuracy: 0.9328\n",
            "Epoch 53/100\n",
            "50/50 [==============================] - 1s 27ms/step - loss: 0.5001 - accuracy: 0.9316\n",
            "Epoch 54/100\n",
            "50/50 [==============================] - 1s 28ms/step - loss: 0.4941 - accuracy: 0.9341\n",
            "Epoch 55/100\n",
            "50/50 [==============================] - 1s 28ms/step - loss: 0.4824 - accuracy: 0.9366\n",
            "Epoch 56/100\n",
            "50/50 [==============================] - 1s 27ms/step - loss: 0.4767 - accuracy: 0.9322\n",
            "Epoch 57/100\n",
            "50/50 [==============================] - 1s 27ms/step - loss: 0.4583 - accuracy: 0.9366\n",
            "Epoch 58/100\n",
            "50/50 [==============================] - 1s 28ms/step - loss: 0.4500 - accuracy: 0.9353\n",
            "Epoch 59/100\n",
            "50/50 [==============================] - 1s 28ms/step - loss: 0.4707 - accuracy: 0.9316\n",
            "Epoch 60/100\n",
            "50/50 [==============================] - 1s 28ms/step - loss: 0.4750 - accuracy: 0.9328\n",
            "Epoch 61/100\n",
            "50/50 [==============================] - 1s 27ms/step - loss: 0.4835 - accuracy: 0.9253\n",
            "Epoch 62/100\n",
            "50/50 [==============================] - 1s 28ms/step - loss: 0.5577 - accuracy: 0.9102\n",
            "Epoch 63/100\n",
            "50/50 [==============================] - 1s 27ms/step - loss: 0.5126 - accuracy: 0.9203\n",
            "Epoch 64/100\n",
            "50/50 [==============================] - 1s 28ms/step - loss: 0.4757 - accuracy: 0.9240\n",
            "Epoch 65/100\n",
            "50/50 [==============================] - 1s 28ms/step - loss: 0.4530 - accuracy: 0.9303\n",
            "Epoch 66/100\n",
            "50/50 [==============================] - 1s 27ms/step - loss: 0.4205 - accuracy: 0.9366\n",
            "Epoch 67/100\n",
            "50/50 [==============================] - 1s 28ms/step - loss: 0.4088 - accuracy: 0.9404\n",
            "Epoch 68/100\n",
            "50/50 [==============================] - 1s 27ms/step - loss: 0.4014 - accuracy: 0.9397\n",
            "Epoch 69/100\n",
            "50/50 [==============================] - 1s 28ms/step - loss: 0.4098 - accuracy: 0.9309\n",
            "Epoch 70/100\n",
            "50/50 [==============================] - 1s 27ms/step - loss: 0.4468 - accuracy: 0.9303\n",
            "Epoch 71/100\n",
            "50/50 [==============================] - 1s 28ms/step - loss: 0.4552 - accuracy: 0.9278\n",
            "Epoch 72/100\n",
            "50/50 [==============================] - 1s 28ms/step - loss: 0.4144 - accuracy: 0.9372\n",
            "Epoch 73/100\n",
            "50/50 [==============================] - 1s 27ms/step - loss: 0.4067 - accuracy: 0.9347\n",
            "Epoch 74/100\n",
            "50/50 [==============================] - 1s 28ms/step - loss: 0.3988 - accuracy: 0.9404\n",
            "Epoch 75/100\n",
            "50/50 [==============================] - 1s 28ms/step - loss: 0.3854 - accuracy: 0.9379\n",
            "Epoch 76/100\n",
            "50/50 [==============================] - 1s 28ms/step - loss: 0.3796 - accuracy: 0.9379\n",
            "Epoch 77/100\n",
            "50/50 [==============================] - 1s 27ms/step - loss: 0.3751 - accuracy: 0.9416\n",
            "Epoch 78/100\n",
            "50/50 [==============================] - 1s 27ms/step - loss: 0.3704 - accuracy: 0.9385\n",
            "Epoch 79/100\n",
            "50/50 [==============================] - 1s 28ms/step - loss: 0.3625 - accuracy: 0.9416\n",
            "Epoch 80/100\n",
            "50/50 [==============================] - 1s 28ms/step - loss: 0.3574 - accuracy: 0.9404\n",
            "Epoch 81/100\n",
            "50/50 [==============================] - 1s 28ms/step - loss: 0.3532 - accuracy: 0.9366\n",
            "Epoch 82/100\n",
            "50/50 [==============================] - 1s 30ms/step - loss: 0.3540 - accuracy: 0.9410\n",
            "Epoch 83/100\n",
            "50/50 [==============================] - 1s 28ms/step - loss: 0.3559 - accuracy: 0.9385\n",
            "Epoch 84/100\n",
            "50/50 [==============================] - 1s 27ms/step - loss: 0.3531 - accuracy: 0.9404\n",
            "Epoch 85/100\n",
            "50/50 [==============================] - 1s 28ms/step - loss: 0.3483 - accuracy: 0.9397\n",
            "Epoch 86/100\n",
            "50/50 [==============================] - 1s 28ms/step - loss: 0.3476 - accuracy: 0.9397\n",
            "Epoch 87/100\n",
            "50/50 [==============================] - 1s 28ms/step - loss: 0.3452 - accuracy: 0.9379\n",
            "Epoch 88/100\n",
            "50/50 [==============================] - 1s 27ms/step - loss: 0.3530 - accuracy: 0.9410\n",
            "Epoch 89/100\n",
            "50/50 [==============================] - 1s 27ms/step - loss: 0.3427 - accuracy: 0.9397\n",
            "Epoch 90/100\n",
            "50/50 [==============================] - 1s 27ms/step - loss: 0.3373 - accuracy: 0.9391\n",
            "Epoch 91/100\n",
            "50/50 [==============================] - 1s 27ms/step - loss: 0.3692 - accuracy: 0.9316\n",
            "Epoch 92/100\n",
            "50/50 [==============================] - 1s 27ms/step - loss: 0.4639 - accuracy: 0.9127\n",
            "Epoch 93/100\n",
            "50/50 [==============================] - 1s 28ms/step - loss: 0.4793 - accuracy: 0.9046\n",
            "Epoch 94/100\n",
            "50/50 [==============================] - 1s 27ms/step - loss: 0.5510 - accuracy: 0.8845\n",
            "Epoch 95/100\n",
            "50/50 [==============================] - 1s 28ms/step - loss: 0.5406 - accuracy: 0.8870\n",
            "Epoch 96/100\n",
            "50/50 [==============================] - 1s 27ms/step - loss: 0.4690 - accuracy: 0.9146\n",
            "Epoch 97/100\n",
            "50/50 [==============================] - 1s 27ms/step - loss: 0.4433 - accuracy: 0.9184\n",
            "Epoch 98/100\n",
            "50/50 [==============================] - 1s 28ms/step - loss: 0.4307 - accuracy: 0.9234\n",
            "Epoch 99/100\n",
            "50/50 [==============================] - 1s 28ms/step - loss: 0.3612 - accuracy: 0.9372\n",
            "Epoch 100/100\n",
            "50/50 [==============================] - 1s 27ms/step - loss: 0.3476 - accuracy: 0.9347\n"
          ],
          "name": "stdout"
        }
      ]
    },
    {
      "cell_type": "code",
      "metadata": {
        "id": "6sa_4FFSO4Zc",
        "colab": {
          "base_uri": "https://localhost:8080/",
          "height": 545
        },
        "outputId": "a6f44418-5392-4d35-e136-428da48ee660"
      },
      "source": [
        "acc = history.history['accuracy'] \n",
        "loss = history.history['loss'] \n",
        "epochs = range(len(acc))  \n",
        "plt.plot(epochs, acc, 'b', label='Training accuracy') \n",
        "plt.title('Training accuracy') \n",
        "plt.figure()  \n",
        "plt.plot(epochs, loss, 'b', label='Training Loss') \n",
        "plt.title('Training loss') \n",
        "plt.legend()  \n",
        "plt.show()"
      ],
      "execution_count": null,
      "outputs": [
        {
          "output_type": "display_data",
          "data": {
            "image/png": "[encoded data removed]",
            "text/plain": [
              "<Figure size 432x288 with 1 Axes>"
            ]
          },
          "metadata": {
            "tags": [],
            "needs_background": "light"
          }
        },
        {
          "output_type": "display_data",
          "data": {
            "image/png": "[encoded data removed]",
            "text/plain": [
              "<Figure size 432x288 with 1 Axes>"
            ]
          },
          "metadata": {
            "tags": [],
            "needs_background": "light"
          }
        }
      ]
    },
    {
      "cell_type": "code",
      "metadata": {
        "id": "gp_jZvN_Rd-n"
      },
      "source": [
        "next_words = 300\n",
        "seed_text = \"Come and see me \""
      ],
      "execution_count": null,
      "outputs": []
    },
    {
      "cell_type": "code",
      "metadata": {
        "id": "3YMAvvvRRnZx",
        "colab": {
          "base_uri": "https://localhost:8080/",
          "height": 54
        },
        "outputId": "ab07bb39-75b3-4006-8ae3-21d4be30eaf1"
      },
      "source": [
        "for _ in range(next_words):\n",
        "\ttoken_list = tokenizer.texts_to_sequences([seed_text])[0]\n",
        "\ttoken_list = pad_sequences([token_list], maxlen=max_sequence_len-1, padding='pre')\n",
        "\tpredicted = model.predict_classes(token_list, verbose=0)\n",
        "\toutput_word = \"\"\n",
        "\tfor word, index in tokenizer.word_index.items():\n",
        "\t\tif index == predicted:\n",
        "\t\t\toutput_word = word\n",
        "\t\t\tbreak\n",
        "\tseed_text += \" \" + output_word\n",
        "print(seed_text)"
      ],
      "execution_count": null,
      "outputs": [
        {
          "output_type": "stream",
          "text": [
            "Come and see me  my hoes is all on him what's give it all i got or blow that my moments 'cause all the next schmo who flows he nose dove and sold nada at too everybody's jokin' now these ropes schmo who flows he nose shot time it reach this is to spot cynics gonna get me i won't let you down for the fire to dig deep not over you're gonna get riddick bowe'd take 'em upstaged gravity stage and i stomach growl throbbing hunger at the summit home that i got in lucifer's moment and gone tomorrow how everybody's jokin' now sold conform he tryna summon why i see appeal to the theme is something go the odds of me as a fucking blowout to get me to retire his mouth but the words won't come out and right in the odds of me comin' back again over these hoes is all the surface he looks calm and ready stage and i feel like i'm in a cage thirst and at i cynics stay in one spot another day of monotony's so now the summit at the summit got it feel the next schmo who flows he nose dove and sold nada at too everybody's jokin' now these ropes schmo who flows he nose shot time it reach this is to spot cynics gonna get me i won't let you down for the fire to dig deep not over you're gonna get riddick bowe'd take 'em upstaged gravity stage and i stomach growl throbbing hunger at the summit home that i got in lucifer's moment and gone tomorrow how everybody's jokin' now sold conform he tryna summon why i see appeal to the theme is something go the odds of me as a fucking blowout to get me to retire his\n"
          ],
          "name": "stdout"
        }
      ]
    },
    {
      "cell_type": "code",
      "metadata": {
        "id": "1R-ouvuWSTDk"
      },
      "source": [
        ""
      ],
      "execution_count": null,
      "outputs": []
    }
  ]
}